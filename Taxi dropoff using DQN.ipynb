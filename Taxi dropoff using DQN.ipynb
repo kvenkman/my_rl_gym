{
 "cells": [
  {
   "cell_type": "code",
   "execution_count": 9,
   "metadata": {},
   "outputs": [],
   "source": [
    "import numpy as np\n",
    "import gym\n",
    "import random\n",
    "import matplotlib.pyplot as plt\n",
    "import time\n",
    "from IPython.display import clear_output\n",
    "import pickle\n",
    "from collections import deque\n",
    "import os"
   ]
  },
  {
   "cell_type": "code",
   "execution_count": 10,
   "metadata": {},
   "outputs": [],
   "source": [
    "# Import ML libraries\n",
    "from tensorflow.keras import Sequential\n",
    "from tensorflow.keras.layers import Dense, Embedding, Reshape, Flatten\n",
    "from tensorflow.keras.optimizers import Adam\n",
    "from tensorflow.keras.models import load_model"
   ]
  },
  {
   "cell_type": "code",
   "execution_count": 3,
   "metadata": {},
   "outputs": [],
   "source": [
    "class Agent:\n",
    "    def __init__(self, env):\n",
    "        \n",
    "        # Initializing Agent/Sim parameters\n",
    "        # This agent will not have a q_table or an alpha value, \n",
    "        # since these will be configured in the DNN\n",
    "        \n",
    "        self.env = env\n",
    "        \n",
    "        self.gamma = 0.96 # discount factor\n",
    "        self.epsilon = 1. # exploration rate\n",
    "        self.epsilon_decay = 0.95\n",
    "        self.epsilon_min = 0.01 \n",
    "        \n",
    "        self.alpha = 0.01\n",
    "        self.alpha_decay = 0.01\n",
    "        self.action = None\n",
    "        \n",
    "        self.n_observation_space = env.observation_space.n\n",
    "        self.n_action_space = env.action_space.n\n",
    "        \n",
    "        self.current_state = env.reset()\n",
    "        \n",
    "        # To allow the agent to store (state, action) pairs which are\n",
    "        # fed to the network for learning\n",
    "        \n",
    "        self.memory = deque(maxlen = 1000)\n",
    "        \n",
    "        # Let's define the network in a separate method\n",
    "        self.model = self.buildDQN()        \n",
    "\n",
    "    def buildDQN(self):\n",
    "        # Defining the DNN\n",
    "        model = Sequential()\n",
    "        model.add(Embedding(500, 10, input_length=1))\n",
    "        model.add(Reshape((10,)))        \n",
    "        model.add(Dense(24, input_dim=self.n_observation_space, activation='tanh'))\n",
    "        model.add(Dense(24, activation='tanh'))\n",
    "        model.add(Dense(self.n_action_space, activation='linear'))\n",
    "        model.compile(loss='mse',optimizer=Adam(lr=self.alpha, decay=self.alpha_decay))        \n",
    "        \n",
    "        return model\n",
    "    \n",
    "    def loadModel(self, filepath):\n",
    "        self.model = load_model(filepath)\n",
    "        \n",
    "    def selectAction(self, state):\n",
    "        if(random.uniform(0, 1) < self.epsilon):\n",
    "            return env.action_space.sample()\n",
    "        \n",
    "        return np.argmax(self.model.predict(np.array(state).reshape(1)))\n",
    "\n",
    "    def train(self, batch_size):\n",
    "        \n",
    "        if(len(self.memory) < batch_size):\n",
    "            return\n",
    "        \n",
    "        x_batch, y_batch = [], []\n",
    "        minibatch = random.sample(self.memory, batch_size)\n",
    "        \n",
    "        for state, action, reward, next_state, done in minibatch:\n",
    "            y_target = self.model.predict(state)\n",
    "            y_target[0][action] = reward if done else reward + \\\n",
    "                                  self.gamma*np.max(self.model.predict(next_state)[0])\n",
    "            x_batch.append(state[0])\n",
    "            y_batch.append(y_target[0])\n",
    "            \n",
    "        self.model.fit(np.array(x_batch), np.array(y_batch), batch_size=len(x_batch), verbose=0)\n",
    "            \n",
    "    def add_to_memory(self, state, action, reward, next_state, done):\n",
    "        self.memory.append((state, action, reward, next_state, done))\n",
    "\n",
    "    def updateParameters(self):        \n",
    "        self.alpha = np.maximum(self.alpha - 0.05, 0.6)\n",
    "        self.epsilon = self.epsilon*self.epsilon_decay if self.epsilon > self.epsilon_min else self.epsilon_min        \n",
    "    \n",
    "    def reset(self):\n",
    "        self.__init__(self.env)"
   ]
  },
  {
   "cell_type": "code",
   "execution_count": 4,
   "metadata": {},
   "outputs": [],
   "source": [
    "class sarsaAgent:\n",
    "    def __init__(self, enviroment, optimizer):\n",
    "        \n",
    "        # Initialize atributes\n",
    "        self._state_size = enviroment.observation_space.n\n",
    "        self.n_action_space = enviroment.action_space.n\n",
    "        self._optimizer = optimizer\n",
    "        \n",
    "        self.experience_replay = deque(maxlen=2000)\n",
    "        \n",
    "        # Initialize discount and exploration rate\n",
    "        self.gamma = 0.6\n",
    "        self.epsilon = 0.1\n",
    "        \n",
    "        # Build networks\n",
    "        self.q_network = self._build_compile_model()\n",
    "        self.target_network = self._build_compile_model()\n",
    "        self.align_target_model()\n",
    "\n",
    "    def store(self, state, action, reward, next_state, terminated):\n",
    "        self.experience_replay.append((state, action, reward, next_state, terminated))\n",
    "    \n",
    "    def _build_compile_model(self):\n",
    "        model = Sequential()\n",
    "        model.add(Embedding(self._state_size, 10, input_length=1))\n",
    "        model.add(Reshape((10,)))\n",
    "        model.add(Dense(50, activation='relu'))\n",
    "        model.add(Dense(50, activation='relu'))\n",
    "        model.add(Dense(self.n_action_space, activation='linear'))\n",
    "        \n",
    "        model.compile(loss='mse', optimizer=self._optimizer)\n",
    "        return model\n",
    "\n",
    "    def align_target_model(self):\n",
    "        self.target_network.set_weights(self.q_network.get_weights())\n",
    "    \n",
    "    def selectAction(self, state):\n",
    "        if np.random.rand() <= self.epsilon:\n",
    "            return enviroment.action_space.sample()\n",
    "        \n",
    "        q_values = self.q_network.predict(state)\n",
    "        return np.argmax(q_values[0])\n",
    "\n",
    "    def train(self, batch_size):\n",
    "        minibatch = random.sample(self.experience_replay, batch_size)\n",
    "        \n",
    "        for state, action, reward, next_state, terminated in minibatch:\n",
    "            \n",
    "            target = self.q_network.predict(state)\n",
    "            \n",
    "            if terminated:\n",
    "                target[0][action] = reward\n",
    "            else:\n",
    "                t = self.target_network.predict(next_state)\n",
    "                target[0][action] = reward + self.gamma * np.amax(t)\n",
    "            \n",
    "            self.q_network.fit(state, target, epochs=1, verbose=0)"
   ]
  },
  {
   "cell_type": "code",
   "execution_count": 5,
   "metadata": {},
   "outputs": [],
   "source": [
    "env = gym.make(\"Taxi-v3\")"
   ]
  },
  {
   "cell_type": "code",
   "execution_count": 6,
   "metadata": {},
   "outputs": [
    {
     "name": "stdout",
     "output_type": "stream",
     "text": [
      "Model: \"sequential\"\n",
      "_________________________________________________________________\n",
      "Layer (type)                 Output Shape              Param #   \n",
      "=================================================================\n",
      "embedding (Embedding)        (None, 1, 10)             5000      \n",
      "_________________________________________________________________\n",
      "reshape (Reshape)            (None, 10)                0         \n",
      "_________________________________________________________________\n",
      "dense (Dense)                (None, 24)                264       \n",
      "_________________________________________________________________\n",
      "dense_1 (Dense)              (None, 24)                600       \n",
      "_________________________________________________________________\n",
      "dense_2 (Dense)              (None, 6)                 150       \n",
      "=================================================================\n",
      "Total params: 6,014\n",
      "Trainable params: 6,014\n",
      "Non-trainable params: 0\n",
      "_________________________________________________________________\n"
     ]
    }
   ],
   "source": [
    "dqnTaxiDriver = Agent(env)\n",
    "dqnTaxiDriver.model.summary()"
   ]
  },
  {
   "cell_type": "code",
   "execution_count": 7,
   "metadata": {},
   "outputs": [
    {
     "name": "stdout",
     "output_type": "stream",
     "text": [
      "Model: \"sequential_1\"\n",
      "_________________________________________________________________\n",
      "Layer (type)                 Output Shape              Param #   \n",
      "=================================================================\n",
      "embedding_1 (Embedding)      (None, 1, 10)             5000      \n",
      "_________________________________________________________________\n",
      "reshape_1 (Reshape)          (None, 10)                0         \n",
      "_________________________________________________________________\n",
      "dense_3 (Dense)              (None, 50)                550       \n",
      "_________________________________________________________________\n",
      "dense_4 (Dense)              (None, 50)                2550      \n",
      "_________________________________________________________________\n",
      "dense_5 (Dense)              (None, 6)                 306       \n",
      "=================================================================\n",
      "Total params: 8,406\n",
      "Trainable params: 8,406\n",
      "Non-trainable params: 0\n",
      "_________________________________________________________________\n"
     ]
    }
   ],
   "source": [
    "optimizer = Adam(learning_rate=0.01)\n",
    "sarsaTaxiDriver = sarsaAgent(env, optimizer)\n",
    "sarsaTaxiDriver.q_network.summary()"
   ]
  },
  {
   "cell_type": "code",
   "execution_count": 11,
   "metadata": {},
   "outputs": [
    {
     "ename": "NameError",
     "evalue": "name 'tensorflow' is not defined",
     "output_type": "error",
     "traceback": [
      "\u001b[0;31m---------------------------------------------------------------------------\u001b[0m",
      "\u001b[0;31mNameError\u001b[0m                                 Traceback (most recent call last)",
      "\u001b[0;32m<ipython-input-11-de69a308f5d9>\u001b[0m in \u001b[0;36m<module>\u001b[0;34m\u001b[0m\n\u001b[1;32m      1\u001b[0m \u001b[0;31m# dqnTaxiDriver.reset()\u001b[0m\u001b[0;34m\u001b[0m\u001b[0;34m\u001b[0m\u001b[0;34m\u001b[0m\u001b[0m\n\u001b[0;32m----> 2\u001b[0;31m \u001b[0mdqnTaxiDriver\u001b[0m\u001b[0;34m.\u001b[0m\u001b[0mmodel\u001b[0m \u001b[0;34m=\u001b[0m \u001b[0mtensorflow\u001b[0m\u001b[0;34m.\u001b[0m\u001b[0mkeras\u001b[0m\u001b[0;34m.\u001b[0m\u001b[0mload\u001b[0m\u001b[0;34m(\u001b[0m\u001b[0;34m\"pickled_dqn.h5\"\u001b[0m\u001b[0;34m)\u001b[0m\u001b[0;34m\u001b[0m\u001b[0;34m\u001b[0m\u001b[0m\n\u001b[0m",
      "\u001b[0;31mNameError\u001b[0m: name 'tensorflow' is not defined"
     ]
    }
   ],
   "source": [
    "# dqnTaxiDriver.reset()\n",
    "dqnTaxiDriver.model = tensorflow.keras.load(\"pickled_dqn.h5\")"
   ]
  },
  {
   "cell_type": "code",
   "execution_count": 54,
   "metadata": {},
   "outputs": [
    {
     "name": "stdout",
     "output_type": "stream",
     "text": [
      "+---------+\n",
      "|R: | : :G|\n",
      "| : | : : |\n",
      "| : : : : |\n",
      "| | : | : |\n",
      "|\u001b[42mY\u001b[0m| : |\u001b[35mB\u001b[0m: |\n",
      "+---------+\n",
      "  (Pickup)\n",
      "Current state:  4 419 99\n"
     ]
    }
   ],
   "source": [
    "# Test sim run:\n",
    "state = env.reset()\n",
    "#dqnTaxiDriver.epsilon = 0.9\n",
    "#dqnTaxiDriver.reset()\n",
    "for i in range(100):\n",
    "    action = dqnTaxiDriver.selectAction(state) # env.action_space.sample()\n",
    "    next_state, reward, done, info = env.step(action)\n",
    "\n",
    "    dqnTaxiDriver.add_to_memory(np.array(state).reshape(1), action, reward, \\\n",
    "                                np.array(next_state).reshape(1), done)\n",
    "\n",
    "    state = next_state\n",
    "    \n",
    "    env.render()\n",
    "\n",
    "    print(\"Current state: \", action, state, i)\n",
    "    time.sleep(0.1)\n",
    "    clear_output(wait=True)    \n",
    "    \n",
    "    if(done):\n",
    "        break"
   ]
  },
  {
   "cell_type": "code",
   "execution_count": null,
   "metadata": {
    "scrolled": true
   },
   "outputs": [
    {
     "name": "stdout",
     "output_type": "stream",
     "text": [
      "Current episode number:  0\n",
      "WARNING:tensorflow:From /home/karthik/.local/lib/python3.7/site-packages/tensorflow_core/python/ops/resource_variable_ops.py:1781: calling BaseResourceVariable.__init__ (from tensorflow.python.ops.resource_variable_ops) with constraint is deprecated and will be removed in a future version.\n",
      "Instructions for updating:\n",
      "If using Keras pass *_constraint arguments to layers.\n",
      "INFO:tensorflow:Assets written to: pickled_dqn.hd5/assets\n",
      "Current episode number:  1\n"
     ]
    }
   ],
   "source": [
    "# Simulation parameters\n",
    "batch_size = 32\n",
    "num_of_episodes = 500\n",
    "timesteps_per_episode = 200\n",
    "\n",
    "env.reset()\n",
    "for e in range(num_of_episodes):\n",
    "    # Reset the enviroment\n",
    "    state = env.reset()\n",
    "    \n",
    "    # Initialize variables\n",
    "    reward = 0\n",
    "    done = False\n",
    "    print(\"Current episode number: \", e)\n",
    "    #clear_output(wait=True)\n",
    "\n",
    "    for timestep in range(timesteps_per_episode):\n",
    "        # Run Action\n",
    "        action = dqnTaxiDriver.selectAction(state)\n",
    "        \n",
    "        # Take action    \n",
    "        next_state, reward, done, info = env.step(action) \n",
    "        dqnTaxiDriver.add_to_memory(np.array(state).reshape(1), action, reward, \\\n",
    "                                    np.array(next_state).reshape(1), done)\n",
    "        \n",
    "        state = next_state\n",
    "        \n",
    "        #env.render()\n",
    "        \n",
    "        dqnTaxiDriver.train(batch_size)\n",
    "        \n",
    "        if done:\n",
    "            break\n",
    "            \n",
    "    if(e % 100 == 0):\n",
    "        dqnTaxiDriver.updateParameters()\n",
    "        dqnTaxiDriver.model.save(\"pickled_dqn.hd5\")\n",
    "        #os.system(\"git add pickled_dqn.h5\")\n",
    "        #os.system(\"git commit -m \\\"autoupdate saved model\\\"\")\n",
    "        #os.system(\"git push origin master\")        "
   ]
  },
  {
   "cell_type": "code",
   "execution_count": null,
   "metadata": {},
   "outputs": [],
   "source": [
    "dqnTaxiDriver.model.save(\"pickled_dqn.hd5\")\n",
    "os.system(\"git add pickled_dqn.h5\")\n",
    "os.system(\"git commit -m \\\"autoupdate saved model\\\"\")\n",
    "os.system(\"git push origin master\")  "
   ]
  }
 ],
 "metadata": {
  "kernelspec": {
   "display_name": "Python 3",
   "language": "python",
   "name": "python3"
  },
  "language_info": {
   "codemirror_mode": {
    "name": "ipython",
    "version": 3
   },
   "file_extension": ".py",
   "mimetype": "text/x-python",
   "name": "python",
   "nbconvert_exporter": "python",
   "pygments_lexer": "ipython3",
   "version": "3.7.4"
  }
 },
 "nbformat": 4,
 "nbformat_minor": 2
}
