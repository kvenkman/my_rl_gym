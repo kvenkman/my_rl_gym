{
 "cells": [
  {
   "cell_type": "code",
   "execution_count": 75,
   "metadata": {},
   "outputs": [],
   "source": [
    "import numpy as np\n",
    "import gym\n",
    "import random\n",
    "import matplotlib.pyplot as plt\n",
    "import time\n",
    "from IPython.display import clear_output\n",
    "import pickle"
   ]
  },
  {
   "cell_type": "code",
   "execution_count": 69,
   "metadata": {},
   "outputs": [],
   "source": [
    "class Agent:\n",
    "    def __init__(self, env):\n",
    "        \n",
    "        # Initializing Agent/Sim parameters\n",
    "        self.q_table = np.zeros((env.observation_space.n, env.action_space.n))\n",
    "        \n",
    "        self.alpha = 0.9 # learning rate\n",
    "        self.gamma = 0.96 # discount factor\n",
    "        self.epsilon = 0.85 # exploration rate\n",
    "        self.action = None\n",
    "        \n",
    "        self.current_state = env.reset()\n",
    "        \n",
    "        self.n_episodes = 100000 # Episodes to play\n",
    "        self.n_steps = 200 # Max steps in an episode\n",
    "        \n",
    "    def learn(self, new_state, reward):\n",
    "        self.reward = reward\n",
    "        \n",
    "        # The Bellman Equation\n",
    "        self.q_table[self.current_state, self.action] = self.q_table[self.current_state, self.action] + \\\n",
    "        self.alpha*(reward + self.gamma*np.max(self.q_table[new_state, :]) - \\\n",
    "                    self.q_table[self.current_state, self.action])\n",
    "        \n",
    "    def selectAction(self):\n",
    "        if(random.uniform(0, 1) < self.epsilon):\n",
    "            return env.action_space.sample()\n",
    "        else:\n",
    "            return np.argmax(self.q_table[self.current_state, :])\n",
    "        \n",
    "    def updateParameters(self):        \n",
    "        self.epsilon = np.maximum(self.epsilon - 0.05, 0.1)\n",
    "        #self.alpha = np.maximum(self.alpha - 0.05, 0.6)"
   ]
  },
  {
   "cell_type": "code",
   "execution_count": 70,
   "metadata": {},
   "outputs": [
    {
     "name": "stdout",
     "output_type": "stream",
     "text": [
      "state in constructor:  324\n"
     ]
    }
   ],
   "source": [
    "env = gym.make(\"Taxi-v3\")\n",
    "agent = Agent(env)"
   ]
  },
  {
   "cell_type": "code",
   "execution_count": 66,
   "metadata": {},
   "outputs": [
    {
     "name": "stdout",
     "output_type": "stream",
     "text": [
      "+---------+\n",
      "|\u001b[35mR\u001b[0m: | : :G|\n",
      "| : | : : |\n",
      "| : : : : |\n",
      "| | : | : |\n",
      "|Y| : |\u001b[34;1mB\u001b[0m:\u001b[43m \u001b[0m|\n",
      "+---------+\n",
      "  (East)\n"
     ]
    }
   ],
   "source": [
    "# Random play\n",
    "env.reset()\n",
    "\n",
    "for i in range(100):\n",
    "    action = env.action_space.sample()\n",
    "    state, reward, done, info = env.step(action)\n",
    "    env.render()\n",
    "    if(done):\n",
    "        break\n",
    "    time.sleep(0.01)\n",
    "    clear_output(wait=True)"
   ]
  },
  {
   "cell_type": "code",
   "execution_count": 74,
   "metadata": {},
   "outputs": [
    {
     "name": "stdout",
     "output_type": "stream",
     "text": [
      "+---------+\n",
      "|\u001b[35m\u001b[34;1m\u001b[43mR\u001b[0m\u001b[0m\u001b[0m: | : :G|\n",
      "| : | : : |\n",
      "| : : : : |\n",
      "| | : | : |\n",
      "|Y| : |B: |\n",
      "+---------+\n",
      "  (Dropoff)\n"
     ]
    }
   ],
   "source": [
    "#agent = Agent(env)\n",
    "agent.epsilon = 0.1\n",
    "for i in range(100):\n",
    "    agent.state = env.reset()\n",
    "    for j in range(agent.n_steps):        \n",
    "        \n",
    "        agent.action = agent.selectAction()\n",
    "        state, reward, done, info = env.step(agent.action)\n",
    "        agent.learn(state, reward)\n",
    "        agent.current_state = state\n",
    "\n",
    "        env.render()\n",
    "        \n",
    "        if(done):\n",
    "            break\n",
    "        print(\"Current episode number: \", i)\n",
    "        print(agent.q_table)\n",
    "        time.sleep(0.1)\n",
    "        clear_output(wait=True)\n",
    "    \n",
    "    #if ((i%10000) == 0):\n",
    "        #agent.updateParameters()\n"
   ]
  },
  {
   "cell_type": "code",
   "execution_count": 68,
   "metadata": {},
   "outputs": [
    {
     "name": "stdout",
     "output_type": "stream",
     "text": [
      "0.34999999999999976 0.6\n"
     ]
    }
   ],
   "source": [
    "print(agent.epsilon, agent.alpha)"
   ]
  },
  {
   "cell_type": "code",
   "execution_count": 78,
   "metadata": {},
   "outputs": [],
   "source": [
    "pickle_out = open(\"pickled_qtable.pkl\",\"wb\")\n",
    "pickle.dump(agent.q_table, pickle_out)\n",
    "pickle_out.close()"
   ]
  },
  {
   "cell_type": "code",
   "execution_count": 79,
   "metadata": {},
   "outputs": [],
   "source": [
    "pickle_in = open(\"pickled_qtable.pkl\",\"rb\")\n",
    "example_dict = pickle.load(pickle_in)"
   ]
  },
  {
   "cell_type": "code",
   "execution_count": 80,
   "metadata": {},
   "outputs": [
    {
     "data": {
      "text/plain": [
       "numpy.ndarray"
      ]
     },
     "execution_count": 80,
     "metadata": {},
     "output_type": "execute_result"
    }
   ],
   "source": [
    "type(example_dict)"
   ]
  },
  {
   "cell_type": "code",
   "execution_count": 81,
   "metadata": {},
   "outputs": [
    {
     "name": "stdout",
     "output_type": "stream",
     "text": [
      "[[ 4.75905748  1.11739268  2.76596329  0.62057501 -6.2195181  -3.9105127 ]\n",
      " [ 8.24653574  8.97905968  9.10075603  9.15276327 12.98027437  0.11345978]\n",
      " [ 9.87998663 13.47338384  9.9910746  13.47343592 16.15595384  6.69258676]\n",
      " ...\n",
      " [16.27997343 17.15452872 15.96769626 16.19991682 10.41536245 10.37956566]\n",
      " [ 8.60779808 11.24569441  7.27693761  7.06592653 -0.53239845 -0.52029961]\n",
      " [21.88319926 20.02856888 22.0390101  24.76745993 14.6497005  14.59838742]]\n"
     ]
    }
   ],
   "source": [
    "print(example_dict)"
   ]
  },
  {
   "cell_type": "code",
   "execution_count": null,
   "metadata": {},
   "outputs": [],
   "source": []
  }
 ],
 "metadata": {
  "kernelspec": {
   "display_name": "Python 3",
   "language": "python",
   "name": "python3"
  },
  "language_info": {
   "codemirror_mode": {
    "name": "ipython",
    "version": 3
   },
   "file_extension": ".py",
   "mimetype": "text/x-python",
   "name": "python",
   "nbconvert_exporter": "python",
   "pygments_lexer": "ipython3",
   "version": "3.7.4"
  }
 },
 "nbformat": 4,
 "nbformat_minor": 2
}
