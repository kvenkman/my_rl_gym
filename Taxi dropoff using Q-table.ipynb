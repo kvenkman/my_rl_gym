{
 "cells": [
  {
   "cell_type": "code",
   "execution_count": 61,
   "metadata": {},
   "outputs": [],
   "source": [
    "import numpy as np\n",
    "import gym\n",
    "import random\n",
    "import matplotlib.pyplot as plt\n",
    "import time\n",
    "from IPython.display import clear_output"
   ]
  },
  {
   "cell_type": "code",
   "execution_count": 69,
   "metadata": {},
   "outputs": [],
   "source": [
    "class Agent:\n",
    "    def __init__(self, env):\n",
    "        self.q_table = np.zeros((env.observation_space.n, env.action_space.n))\n",
    "        \n",
    "        self.alpha = 0.9 # learning rate\n",
    "        self.gamma = 0.96 # discount factor\n",
    "        self.epsilon = 0.85 # exploration rate\n",
    "        self.action = None\n",
    "        \n",
    "        self.current_state = env.reset()\n",
    "        print(\"state in constructor: \", self.current_state)\n",
    "        \n",
    "        self.n_episodes = 100000 # Episodes to play\n",
    "        self.n_steps = 200 # Max steps in an episode\n",
    "        \n",
    "    def learn(self, new_state, reward):\n",
    "        self.reward = reward\n",
    "        \n",
    "        self.q_table[self.current_state, self.action] = self.q_table[self.current_state, self.action] + \\\n",
    "        self.alpha*(reward + self.gamma*np.max(self.q_table[new_state, :]) - \\\n",
    "                    self.q_table[self.current_state, self.action])\n",
    "        \n",
    "    def selectAction(self):\n",
    "        if(random.uniform(0, 1) < self.epsilon):\n",
    "            return env.action_space.sample()\n",
    "        else:\n",
    "            return np.argmax(self.q_table[self.current_state, :])\n",
    "        \n",
    "    def updateParameters(self):        \n",
    "        self.epsilon = np.maximum(self.epsilon - 0.05, 0.1)\n",
    "        #self.alpha = np.maximum(self.alpha - 0.05, 0.6)"
   ]
  },
  {
   "cell_type": "code",
   "execution_count": 70,
   "metadata": {},
   "outputs": [
    {
     "name": "stdout",
     "output_type": "stream",
     "text": [
      "state in constructor:  324\n"
     ]
    }
   ],
   "source": [
    "env = gym.make(\"Taxi-v3\")\n",
    "agent = Agent(env)"
   ]
  },
  {
   "cell_type": "code",
   "execution_count": 66,
   "metadata": {},
   "outputs": [
    {
     "name": "stdout",
     "output_type": "stream",
     "text": [
      "+---------+\n",
      "|\u001b[35mR\u001b[0m: | : :G|\n",
      "| : | : : |\n",
      "| : : : : |\n",
      "| | : | : |\n",
      "|Y| : |\u001b[34;1mB\u001b[0m:\u001b[43m \u001b[0m|\n",
      "+---------+\n",
      "  (East)\n"
     ]
    }
   ],
   "source": [
    "# Random play\n",
    "env.reset()\n",
    "\n",
    "for i in range(100):\n",
    "    action = env.action_space.sample()\n",
    "    state, reward, done, info = env.step(action)\n",
    "    env.render()\n",
    "    if(done):\n",
    "        break\n",
    "    time.sleep(0.01)\n",
    "    clear_output(wait=True)"
   ]
  },
  {
   "cell_type": "code",
   "execution_count": null,
   "metadata": {},
   "outputs": [
    {
     "name": "stdout",
     "output_type": "stream",
     "text": [
      "+---------+\n",
      "|\u001b[35mR\u001b[0m:\u001b[43m \u001b[0m| : :\u001b[34;1mG\u001b[0m|\n",
      "| : | : : |\n",
      "| : : : : |\n",
      "| | : | : |\n",
      "|Y| : |B: |\n",
      "+---------+\n",
      "  (East)\n",
      "[[ -4.27944662  -2.76725068  -3.62591483  -4.70965882 -12.02536308\n",
      "  -13.83504594]\n",
      " [ -5.99706579  -5.42260838  -6.20273021  -5.40374235  -4.60872152\n",
      "  -14.42420685]\n",
      " [  8.35138805   8.57277084   3.14617107   9.62650743  11.6663391\n",
      "   -0.05943873]\n",
      " ...\n",
      " [ -2.68924824  -1.95808774  -2.68847064  -3.35906412 -11.85479195\n",
      "  -10.8539136 ]\n",
      " [ -2.63070396  -1.93311     -1.939896    -1.939896   -11.6210736\n",
      "  -10.9394496 ]\n",
      " [  0.          -1.862136    -0.9         -0.99         0.\n",
      "   -9.        ]]\n"
     ]
    }
   ],
   "source": [
    "#agent = Agent(env)\n",
    "\n",
    "for i in range(agent.n_episodes):\n",
    "    agent.state = env.reset()\n",
    "    for j in range(agent.n_steps):        \n",
    "        \n",
    "        agent.action = agent.selectAction()\n",
    "        state, reward, done, info = env.step(agent.action)\n",
    "        agent.learn(state, reward)\n",
    "        agent.current_state = state\n",
    "\n",
    "        env.render()\n",
    "        \n",
    "        if(done):\n",
    "            break\n",
    "        \n",
    "        print(agent.q_table)\n",
    "        time.sleep(0.01)\n",
    "        clear_output(wait=True)\n",
    "    \n",
    "    #if ((i%10000) == 0):\n",
    "        #agent.updateParameters()\n"
   ]
  },
  {
   "cell_type": "code",
   "execution_count": 68,
   "metadata": {},
   "outputs": [
    {
     "name": "stdout",
     "output_type": "stream",
     "text": [
      "0.34999999999999976 0.6\n"
     ]
    }
   ],
   "source": [
    "print(agent.epsilon, agent.alpha)"
   ]
  },
  {
   "cell_type": "code",
   "execution_count": null,
   "metadata": {},
   "outputs": [],
   "source": []
  }
 ],
 "metadata": {
  "kernelspec": {
   "display_name": "Python 3",
   "language": "python",
   "name": "python3"
  },
  "language_info": {
   "codemirror_mode": {
    "name": "ipython",
    "version": 3
   },
   "file_extension": ".py",
   "mimetype": "text/x-python",
   "name": "python",
   "nbconvert_exporter": "python",
   "pygments_lexer": "ipython3",
   "version": "3.7.4"
  }
 },
 "nbformat": 4,
 "nbformat_minor": 2
}
