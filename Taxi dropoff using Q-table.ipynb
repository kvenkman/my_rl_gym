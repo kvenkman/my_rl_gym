{
 "cells": [
  {
   "cell_type": "code",
   "execution_count": 61,
   "metadata": {},
   "outputs": [],
   "source": [
    "import numpy as np\n",
    "import gym\n",
    "import random\n",
    "import matplotlib.pyplot as plt\n",
    "import time\n",
    "from IPython.display import clear_output"
   ]
  },
  {
   "cell_type": "code",
   "execution_count": 69,
   "metadata": {},
   "outputs": [],
   "source": [
    "class Agent:\n",
    "    def __init__(self, env):\n",
    "        \n",
    "        # Initializing Agent/Sim parameters\n",
    "        self.q_table = np.zeros((env.observation_space.n, env.action_space.n))\n",
    "        \n",
    "        self.alpha = 0.9 # learning rate\n",
    "        self.gamma = 0.96 # discount factor\n",
    "        self.epsilon = 0.85 # exploration rate\n",
    "        self.action = None\n",
    "        \n",
    "        self.current_state = env.reset()\n",
    "        \n",
    "        self.n_episodes = 100000 # Episodes to play\n",
    "        self.n_steps = 200 # Max steps in an episode\n",
    "        \n",
    "    def learn(self, new_state, reward):\n",
    "        self.reward = reward\n",
    "        \n",
    "        # The Bellman Equation\n",
    "        self.q_table[self.current_state, self.action] = self.q_table[self.current_state, self.action] + \\\n",
    "        self.alpha*(reward + self.gamma*np.max(self.q_table[new_state, :]) - \\\n",
    "                    self.q_table[self.current_state, self.action])\n",
    "        \n",
    "    def selectAction(self):\n",
    "        if(random.uniform(0, 1) < self.epsilon):\n",
    "            return env.action_space.sample()\n",
    "        else:\n",
    "            return np.argmax(self.q_table[self.current_state, :])\n",
    "        \n",
    "    def updateParameters(self):        \n",
    "        self.epsilon = np.maximum(self.epsilon - 0.05, 0.1)\n",
    "        #self.alpha = np.maximum(self.alpha - 0.05, 0.6)"
   ]
  },
  {
   "cell_type": "code",
   "execution_count": 70,
   "metadata": {},
   "outputs": [
    {
     "name": "stdout",
     "output_type": "stream",
     "text": [
      "state in constructor:  324\n"
     ]
    }
   ],
   "source": [
    "env = gym.make(\"Taxi-v3\")\n",
    "agent = Agent(env)"
   ]
  },
  {
   "cell_type": "code",
   "execution_count": 66,
   "metadata": {},
   "outputs": [
    {
     "name": "stdout",
     "output_type": "stream",
     "text": [
      "+---------+\n",
      "|\u001b[35mR\u001b[0m: | : :G|\n",
      "| : | : : |\n",
      "| : : : : |\n",
      "| | : | : |\n",
      "|Y| : |\u001b[34;1mB\u001b[0m:\u001b[43m \u001b[0m|\n",
      "+---------+\n",
      "  (East)\n"
     ]
    }
   ],
   "source": [
    "# Random play\n",
    "env.reset()\n",
    "\n",
    "for i in range(100):\n",
    "    action = env.action_space.sample()\n",
    "    state, reward, done, info = env.step(action)\n",
    "    env.render()\n",
    "    if(done):\n",
    "        break\n",
    "    time.sleep(0.01)\n",
    "    clear_output(wait=True)"
   ]
  },
  {
   "cell_type": "code",
   "execution_count": null,
   "metadata": {},
   "outputs": [
    {
     "name": "stdout",
     "output_type": "stream",
     "text": [
      "+---------+\n",
      "|R: | : :G|\n",
      "| : | : : |\n",
      "| : : :\u001b[42m_\u001b[0m: |\n",
      "| | : | : |\n",
      "|\u001b[35mY\u001b[0m| : |B: |\n",
      "+---------+\n",
      "  (Pickup)\n",
      "Current episode number:  72\n",
      "[[ 0.86453169  0.20384641  7.95175663  6.08683912 -5.5496862  -5.89885267]\n",
      " [ 7.15224231  8.22858169  8.34252119  8.28103751  8.43842454  0.08950749]\n",
      " [16.75404215 17.33891787 17.43637545 18.72782342 15.66838841  7.98059756]\n",
      " ...\n",
      " [14.068989   15.63657473 14.05395986 14.5294897   5.24496679  5.62064332]\n",
      " [11.2838494  13.10818167 11.39677662 13.27545378  2.55132297  2.41069766]\n",
      " [21.38623928 19.51220656 21.52621611 29.30643375 12.5269019  12.5540499 ]]\n"
     ]
    }
   ],
   "source": [
    "#agent = Agent(env)\n",
    "\n",
    "for i in range(agent.n_episodes):\n",
    "    agent.state = env.reset()\n",
    "    for j in range(agent.n_steps):        \n",
    "        \n",
    "        agent.action = agent.selectAction()\n",
    "        state, reward, done, info = env.step(agent.action)\n",
    "        agent.learn(state, reward)\n",
    "        agent.current_state = state\n",
    "\n",
    "        env.render()\n",
    "        \n",
    "        if(done):\n",
    "            break\n",
    "        print(\"Current episode number: \", i)\n",
    "        print(agent.q_table)\n",
    "        time.sleep(0.01)\n",
    "        clear_output(wait=True)\n",
    "    \n",
    "    #if ((i%10000) == 0):\n",
    "        #agent.updateParameters()\n"
   ]
  },
  {
   "cell_type": "code",
   "execution_count": 68,
   "metadata": {},
   "outputs": [
    {
     "name": "stdout",
     "output_type": "stream",
     "text": [
      "0.34999999999999976 0.6\n"
     ]
    }
   ],
   "source": [
    "print(agent.epsilon, agent.alpha)"
   ]
  },
  {
   "cell_type": "code",
   "execution_count": null,
   "metadata": {},
   "outputs": [],
   "source": []
  }
 ],
 "metadata": {
  "kernelspec": {
   "display_name": "Python 3",
   "language": "python",
   "name": "python3"
  },
  "language_info": {
   "codemirror_mode": {
    "name": "ipython",
    "version": 3
   },
   "file_extension": ".py",
   "mimetype": "text/x-python",
   "name": "python",
   "nbconvert_exporter": "python",
   "pygments_lexer": "ipython3",
   "version": "3.7.4"
  }
 },
 "nbformat": 4,
 "nbformat_minor": 2
}
