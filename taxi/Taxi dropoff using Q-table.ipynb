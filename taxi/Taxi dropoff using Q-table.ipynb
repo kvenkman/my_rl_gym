{
 "cells": [
  {
   "cell_type": "code",
   "execution_count": 2,
   "metadata": {},
   "outputs": [],
   "source": [
    "import numpy as np\n",
    "import gym\n",
    "import random\n",
    "import matplotlib.pyplot as plt\n",
    "import time\n",
    "from IPython.display import clear_output\n",
    "import pickle"
   ]
  },
  {
   "cell_type": "code",
   "execution_count": 3,
   "metadata": {},
   "outputs": [],
   "source": [
    "class Agent:\n",
    "    def __init__(self, env):\n",
    "        \n",
    "        # Initializing Agent/Sim parameters\n",
    "        self.q_table = np.zeros((env.observation_space.n, env.action_space.n))\n",
    "        \n",
    "        self.alpha = 0.9 # learning rate\n",
    "        self.gamma = 0.96 # discount factor\n",
    "        self.epsilon = 0.85 # exploration rate\n",
    "        self.action = None\n",
    "        \n",
    "        self.current_state = env.reset()\n",
    "        \n",
    "        self.n_episodes = 100000 # Episodes to play\n",
    "        self.n_steps = 200 # Max steps in an episode\n",
    "        \n",
    "    def learn(self, new_state, reward):\n",
    "        self.reward = reward\n",
    "        \n",
    "        # The Bellman Equation\n",
    "        self.q_table[self.current_state, self.action] = self.q_table[self.current_state, self.action] + \\\n",
    "        self.alpha*(reward + self.gamma*np.max(self.q_table[new_state, :]) - \\\n",
    "                    self.q_table[self.current_state, self.action])\n",
    "        \n",
    "    def selectAction(self):\n",
    "        if(random.uniform(0, 1) < self.epsilon):\n",
    "            return env.action_space.sample()\n",
    "        else:\n",
    "            return np.argmax(self.q_table[self.current_state, :])\n",
    "        \n",
    "    def updateParameters(self):        \n",
    "        self.epsilon = np.maximum(self.epsilon - 0.05, 0.1)\n",
    "        #self.alpha = np.maximum(self.alpha - 0.05, 0.6)"
   ]
  },
  {
   "cell_type": "code",
   "execution_count": 4,
   "metadata": {},
   "outputs": [],
   "source": [
    "env = gym.make(\"Taxi-v3\")\n",
    "agent = Agent(env)"
   ]
  },
  {
   "cell_type": "code",
   "execution_count": 5,
   "metadata": {},
   "outputs": [],
   "source": [
    "#Load pickled q_table using:\n",
    "pickle_in = open(\"pickled_qtable.pkl\",\"rb\")\n",
    "agent.q_table = pickle.load(pickle_in)"
   ]
  },
  {
   "cell_type": "code",
   "execution_count": 10,
   "metadata": {},
   "outputs": [
    {
     "name": "stdout",
     "output_type": "stream",
     "text": [
      "+---------+\n",
      "|R: | : :G|\n",
      "| : | : : |\n",
      "| : : : : |\n",
      "| | : | : |\n",
      "|Y| : |\u001b[35m\u001b[34;1m\u001b[43mB\u001b[0m\u001b[0m\u001b[0m: |\n",
      "+---------+\n",
      "  (Dropoff)\n",
      "[-200, -200, -200, 6, 4, 6, 8, 7, -200, 11]\n"
     ]
    }
   ],
   "source": [
    "# Random play\n",
    "agent.current_state = env.reset()\n",
    "rewards_list = []\n",
    "agent.epsilon=0\n",
    "for j in range(10):\n",
    "    cumulative_reward = 0\n",
    "    agent.current_state = env.reset()\n",
    "    \n",
    "    for i in range(200):\n",
    "        action = agent.selectAction() # env.action_space.sample()\n",
    "        state, reward, done, info = env.step(action)\n",
    "        agent.current_state = state\n",
    "        cumulative_reward += reward\n",
    "        env.render()\n",
    "        if(done):\n",
    "            break\n",
    "        time.sleep(0.05)\n",
    "        clear_output(wait=True)\n",
    "    rewards_list.append(cumulative_reward)\n",
    "\n",
    "print(rewards_list)"
   ]
  },
  {
   "cell_type": "code",
   "execution_count": 8,
   "metadata": {},
   "outputs": [
    {
     "name": "stdout",
     "output_type": "stream",
     "text": [
      "+---------+\n",
      "|R: | : :G|\n",
      "| : | : : |\n",
      "| : : : : |\n",
      "| | : | : |\n",
      "|\u001b[35m\u001b[34;1m\u001b[43mY\u001b[0m\u001b[0m\u001b[0m| : |B: |\n",
      "+---------+\n",
      "  (Dropoff)\n"
     ]
    }
   ],
   "source": [
    "#agent = Agent(env)\n",
    "agent.epsilon = 0.1\n",
    "for i in range(1000):\n",
    "    agent.state = env.reset()\n",
    "    for j in range(agent.n_steps):        \n",
    "        \n",
    "        agent.action = agent.selectAction()\n",
    "        state, reward, done, info = env.step(agent.action)\n",
    "        agent.learn(state, reward)\n",
    "        agent.current_state = state\n",
    "\n",
    "        env.render()\n",
    "        \n",
    "        if(done):\n",
    "            break\n",
    "        print(\"Current episode number: \", i)\n",
    "        print(agent.q_table)\n",
    "        time.sleep(0.05)\n",
    "        clear_output(wait=True)\n",
    "    \n",
    "    #if ((i%10000) == 0):\n",
    "        #agent.updateParameters()\n"
   ]
  },
  {
   "cell_type": "code",
   "execution_count": 16,
   "metadata": {},
   "outputs": [],
   "source": [
    "pickle_out = open(\"pickled_qtable.pkl\",\"wb\")\n",
    "pickle.dump(agent.q_table, pickle_out)\n",
    "pickle_out.close()"
   ]
  }
 ],
 "metadata": {
  "kernelspec": {
   "display_name": "Python 3",
   "language": "python",
   "name": "python3"
  },
  "language_info": {
   "codemirror_mode": {
    "name": "ipython",
    "version": 3
   },
   "file_extension": ".py",
   "mimetype": "text/x-python",
   "name": "python",
   "nbconvert_exporter": "python",
   "pygments_lexer": "ipython3",
   "version": "3.7.4"
  }
 },
 "nbformat": 4,
 "nbformat_minor": 2
}
