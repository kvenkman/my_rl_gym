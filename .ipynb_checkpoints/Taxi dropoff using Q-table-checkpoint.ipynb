{
 "cells": [
  {
   "cell_type": "code",
   "execution_count": 1,
   "metadata": {},
   "outputs": [],
   "source": [
    "import numpy as np\n",
    "import gym\n",
    "import random\n",
    "import matplotlib.pyplot as plt\n",
    "import time\n",
    "from IPython.display import clear_output\n",
    "import pickle"
   ]
  },
  {
   "cell_type": "code",
   "execution_count": 2,
   "metadata": {},
   "outputs": [],
   "source": [
    "class Agent:\n",
    "    def __init__(self, env):\n",
    "        \n",
    "        # Initializing Agent/Sim parameters\n",
    "        self.q_table = np.zeros((env.observation_space.n, env.action_space.n))\n",
    "        \n",
    "        self.alpha = 0.9 # learning rate\n",
    "        self.gamma = 0.96 # discount factor\n",
    "        self.epsilon = 0.85 # exploration rate\n",
    "        self.action = None\n",
    "        \n",
    "        self.current_state = env.reset()\n",
    "        \n",
    "        self.n_episodes = 100000 # Episodes to play\n",
    "        self.n_steps = 200 # Max steps in an episode\n",
    "        \n",
    "    def learn(self, new_state, reward):\n",
    "        self.reward = reward\n",
    "        \n",
    "        # The Bellman Equation\n",
    "        self.q_table[self.current_state, self.action] = self.q_table[self.current_state, self.action] + \\\n",
    "        self.alpha*(reward + self.gamma*np.max(self.q_table[new_state, :]) - \\\n",
    "                    self.q_table[self.current_state, self.action])\n",
    "        \n",
    "    def selectAction(self):\n",
    "        if(random.uniform(0, 1) < self.epsilon):\n",
    "            return env.action_space.sample()\n",
    "        else:\n",
    "            return np.argmax(self.q_table[self.current_state, :])\n",
    "        \n",
    "    def updateParameters(self):        \n",
    "        self.epsilon = np.maximum(self.epsilon - 0.05, 0.1)\n",
    "        #self.alpha = np.maximum(self.alpha - 0.05, 0.6)"
   ]
  },
  {
   "cell_type": "code",
   "execution_count": 3,
   "metadata": {},
   "outputs": [],
   "source": [
    "env = gym.make(\"Taxi-v3\")\n",
    "agent = Agent(env)"
   ]
  },
  {
   "cell_type": "code",
   "execution_count": 8,
   "metadata": {},
   "outputs": [],
   "source": [
    "#Load pickled q_table using:\n",
    "pickle_in = open(\"pickled_qtable.pkl\",\"rb\")\n",
    "example_dict = pickle.load(pickle_in)"
   ]
  },
  {
   "cell_type": "code",
   "execution_count": 5,
   "metadata": {},
   "outputs": [
    {
     "name": "stdout",
     "output_type": "stream",
     "text": [
      "+---------+\n",
      "|\u001b[35mR\u001b[0m: | : :G|\n",
      "| : | : : |\n",
      "| : : : : |\n",
      "| | :\u001b[43m \u001b[0m| : |\n",
      "|\u001b[34;1mY\u001b[0m| : |B: |\n",
      "+---------+\n",
      "  (Dropoff)\n"
     ]
    }
   ],
   "source": [
    "# Random play\n",
    "env.reset()\n",
    "\n",
    "for i in range(100):\n",
    "    action = env.action_space.sample()\n",
    "    state, reward, done, info = env.step(action)\n",
    "    env.render()\n",
    "    if(done):\n",
    "        break\n",
    "    time.sleep(0.01)\n",
    "    clear_output(wait=True)"
   ]
  },
  {
   "cell_type": "code",
   "execution_count": null,
   "metadata": {},
   "outputs": [
    {
     "name": "stdout",
     "output_type": "stream",
     "text": [
      "+---------+\n",
      "|\u001b[34;1m\u001b[43mR\u001b[0m\u001b[0m: | : :G|\n",
      "| : | : : |\n",
      "| : : : : |\n",
      "| | : | : |\n",
      "|\u001b[35mY\u001b[0m| : |B: |\n",
      "+---------+\n",
      "  (North)\n",
      "Current episode number:  810\n",
      "[[ 3.49460914  1.29194272  1.0947871   1.22908524 -4.77033896 -4.71750921]\n",
      " [ 6.84832644  8.93735337  7.38071726  8.94651609  8.8788194  -0.83488278]\n",
      " [12.6341959  13.14030607 11.18903019 12.13640355 16.8481672   6.21601037]\n",
      " ...\n",
      " [14.04518902 16.14681    14.04680771 14.99393785  8.03869119  7.04796645]\n",
      " [10.50564301 11.10552172 10.19333743 11.16176139  1.67322276  2.15838816]\n",
      " [21.9026554  18.20066834 18.45340314 23.58466807 14.77497221 15.16391057]]\n"
     ]
    }
   ],
   "source": [
    "#agent = Agent(env)\n",
    "#agent.epsilon = 0.1\n",
    "for i in range(1000):\n",
    "    agent.state = env.reset()\n",
    "    for j in range(agent.n_steps):        \n",
    "        \n",
    "        agent.action = agent.selectAction()\n",
    "        state, reward, done, info = env.step(agent.action)\n",
    "        agent.learn(state, reward)\n",
    "        agent.current_state = state\n",
    "\n",
    "        env.render()\n",
    "        \n",
    "        if(done):\n",
    "            break\n",
    "        print(\"Current episode number: \", i)\n",
    "        print(agent.q_table)\n",
    "        time.sleep(0.01)\n",
    "        clear_output(wait=True)\n",
    "    \n",
    "    #if ((i%10000) == 0):\n",
    "        #agent.updateParameters()\n"
   ]
  },
  {
   "cell_type": "code",
   "execution_count": 16,
   "metadata": {},
   "outputs": [],
   "source": [
    "pickle_out = open(\"pickled_qtable.pkl\",\"wb\")\n",
    "pickle.dump(agent.q_table, pickle_out)\n",
    "pickle_out.close()"
   ]
  }
 ],
 "metadata": {
  "kernelspec": {
   "display_name": "Python 3",
   "language": "python",
   "name": "python3"
  },
  "language_info": {
   "codemirror_mode": {
    "name": "ipython",
    "version": 3
   },
   "file_extension": ".py",
   "mimetype": "text/x-python",
   "name": "python",
   "nbconvert_exporter": "python",
   "pygments_lexer": "ipython3",
   "version": "3.6.5"
  }
 },
 "nbformat": 4,
 "nbformat_minor": 2
}
