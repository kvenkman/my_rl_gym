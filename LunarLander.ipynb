{
 "cells": [
  {
   "cell_type": "code",
   "execution_count": 1,
   "metadata": {},
   "outputs": [],
   "source": [
    "from collections import deque\n",
    "import random\n",
    "import numpy as np\n",
    "import gym\n",
    "from tensorflow.keras import Sequential\n",
    "from tensorflow.keras.layers import Dense\n",
    "from tensorflow.keras.optimizers import Adam\n",
    "from tensorflow.keras.models import load_model"
   ]
  },
  {
   "cell_type": "code",
   "execution_count": 2,
   "metadata": {},
   "outputs": [],
   "source": [
    "env_name = \"LunarLanderContinuous-v2\""
   ]
  },
  {
   "cell_type": "code",
   "execution_count": 3,
   "metadata": {},
   "outputs": [],
   "source": [
    "env = gym.make(env_name)"
   ]
  },
  {
   "cell_type": "code",
   "execution_count": 4,
   "metadata": {},
   "outputs": [],
   "source": [
    "class Agent():\n",
    "    def __init__(self, env):\n",
    "        self.env = env\n",
    "        self.epsilon = 1.0\n",
    "        self.epsilon_decay = 0.995\n",
    "        self.gamma = 0.99\n",
    "        self.batch_size = 32\n",
    "        self.epsilon_min = 0.01\n",
    "        self.epsilon_decay = 0.995\n",
    "        self.alpha = 0.01\n",
    "        self.memory = deque(maxlen=10000)\n",
    "\n",
    "        self.train = True # Easy way switch train/test\n",
    "\n",
    "        # Qnetwork and target network\n",
    "        self.qnetwork = self.defineNetwork()\n",
    "        self.target = self.defineNetwork()\n",
    "        self.alignTarget()\n",
    "\n",
    "\n",
    "    def defineNetwork(self):\n",
    "        model = Sequential()\n",
    "        model.add(Dense(32, input_dim = self.env.observation_space.shape[0], activation=\"relu\"))  # input layer\n",
    "        model.add(Dense(32, activation=\"relu\")) # hidden layer\n",
    "        model.add(Dense(self.env.action_space.n, activation='linear')) # output layer\n",
    "        model.compile(loss='mse',optimizer=Adam(lr=self.alpha))\n",
    "        return model\n",
    "\n",
    "    def alignTarget(self):\n",
    "        self.target.set_weights(self.qnetwork.get_weights())\n",
    "\n",
    "    def setSimParameters(self, episodes=100, ntimesteps=1000):\n",
    "        self.episodes = episodes\n",
    "        self.ntimesteps = ntimesteps\n",
    "\n",
    "    def loadModel(self, qnetwork_path, target_path):\n",
    "        self.qnetwork = load_model(qnetwork_path)\n",
    "        self.target = load_model(target_path)\n",
    "\n",
    "    def selectAction(self, state):\n",
    "        if(random.uniform(0, 1) < self.epsilon):\n",
    "            return env.action_space.sample()\n",
    "        return np.argmax(self.qnetwork.predict(np.array(state)))\n",
    "\n",
    "    def addToMemory(self, state, action, reward, next_state, done):\n",
    "        self.memory.append((state, action, reward, next_state, done))\n",
    "\n",
    "    def optimize(self): # , state, action, reward, next_state, done\n",
    "        if (self.train and (len(self.memory) > self.batch_size)):\n",
    "            batch = np.array(random.sample(self.memory, self.batch_size))\n",
    "\n",
    "            for state, action, reward, next_state, done in batch:\n",
    "                target = self.qnetwork.predict(state)\n",
    "                if (done):\n",
    "                    target[0][action] = reward\n",
    "                else:\n",
    "                    t = self.target.predict(next_state)\n",
    "                    target[0][action] = reward + self.gamma*np.amax(t)\n",
    "\n",
    "                self.qnetwork.fit(state, target, epochs = 1, verbose = 0)\n",
    "\n",
    "    def updateEpsilon(self):\n",
    "        self.epsilon *= self.epsilon_decay"
   ]
  },
  {
   "cell_type": "code",
   "execution_count": null,
   "metadata": {},
   "outputs": [],
   "source": [
    "state = env.reset()\n",
    "\n",
    "myLander = Agent(env)\n",
    "myLander.setSimParameters(episodes = 100, ntimesteps = 2000)\n",
    "\n",
    "# To test lander\n",
    "myLander.train = False\n",
    "myLander.epsilon = 0\n",
    "myLander.loadModel(\"pickled_lander_qnetwork.h5\", \"pickled_lander_target.h5\")"
   ]
  },
  {
   "cell_type": "code",
   "execution_count": null,
   "metadata": {},
   "outputs": [],
   "source": [
    "for i in range(myLander.episodes, myLander.ntimesteps):\n",
    "    if myLander.train:\n",
    "        print(\"Current episode number: \", i)\n",
    "    current_reward = [0]\n",
    "\n",
    "    for _ in range(myLander.ntimesteps): # myLander.ntimesteps\n",
    "        if not myLander.train:\n",
    "            env.render()\n",
    "\n",
    "        action = myLander.selectAction(state.reshape(1, 8))\n",
    "        new_state, reward, done, _ = env.step(action)\n",
    "\n",
    "        current_reward.append(reward)\n",
    "\n",
    "        myLander.addToMemory(state.reshape(1, 8), action, reward, new_state.reshape(1, 8), done)\n",
    "        myLander.optimize()\n",
    "\n",
    "        state = new_state\n",
    "\n",
    "        if (done):\n",
    "            break\n",
    "\n",
    "    myLander.updateEpsilon()\n",
    "    myLander.alignTarget()"
   ]
  },
  {
   "cell_type": "code",
   "execution_count": null,
   "metadata": {},
   "outputs": [],
   "source": []
  }
 ],
 "metadata": {
  "kernelspec": {
   "display_name": "Python 3",
   "language": "python",
   "name": "python3"
  },
  "language_info": {
   "codemirror_mode": {
    "name": "ipython",
    "version": 3
   },
   "file_extension": ".py",
   "mimetype": "text/x-python",
   "name": "python",
   "nbconvert_exporter": "python",
   "pygments_lexer": "ipython3",
   "version": "3.7.4"
  }
 },
 "nbformat": 4,
 "nbformat_minor": 2
}
